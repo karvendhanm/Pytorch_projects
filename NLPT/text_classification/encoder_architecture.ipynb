{
 "cells": [
  {
   "cell_type": "code",
   "execution_count": 1,
   "id": "ea97f878",
   "metadata": {},
   "outputs": [],
   "source": [
    "from IPython.core.interactiveshell import InteractiveShell\n",
    "InteractiveShell.ast_node_interactivity = \"all\""
   ]
  },
  {
   "cell_type": "code",
   "execution_count": 2,
   "id": "e39a632b",
   "metadata": {},
   "outputs": [
    {
     "data": {
      "text/html": [
       "<style type=\"text/css\">\n",
       "table.dataframe td, table.dataframe th {\n",
       "    border: 1px  black solid !important;\n",
       "  color: black !important;\n",
       "}\n",
       "</style>\n"
      ],
      "text/plain": [
       "<IPython.core.display.HTML object>"
      ]
     },
     "metadata": {},
     "output_type": "display_data"
    }
   ],
   "source": [
    "%%HTML\n",
    "<style type=\"text/css\">\n",
    "table.dataframe td, table.dataframe th {\n",
    "    border: 1px  black solid !important;\n",
    "  color: black !important;\n",
    "}\n",
    "</style>"
   ]
  },
  {
   "cell_type": "code",
   "execution_count": 3,
   "id": "a5e5ed2c",
   "metadata": {},
   "outputs": [],
   "source": [
    "from torch import nn\n",
    "from transformers import AutoTokenizer, AutoConfig\n",
    "\n",
    "import math\n",
    "import torch"
   ]
  },
  {
   "cell_type": "code",
   "execution_count": 4,
   "id": "9b13b054",
   "metadata": {},
   "outputs": [
    {
     "data": {
      "text/plain": [
       "BertConfig {\n",
       "  \"_name_or_path\": \"bert-base-uncased\",\n",
       "  \"architectures\": [\n",
       "    \"BertForMaskedLM\"\n",
       "  ],\n",
       "  \"attention_probs_dropout_prob\": 0.1,\n",
       "  \"classifier_dropout\": null,\n",
       "  \"gradient_checkpointing\": false,\n",
       "  \"hidden_act\": \"gelu\",\n",
       "  \"hidden_dropout_prob\": 0.1,\n",
       "  \"hidden_size\": 768,\n",
       "  \"initializer_range\": 0.02,\n",
       "  \"intermediate_size\": 3072,\n",
       "  \"layer_norm_eps\": 1e-12,\n",
       "  \"max_position_embeddings\": 512,\n",
       "  \"model_type\": \"bert\",\n",
       "  \"num_attention_heads\": 12,\n",
       "  \"num_hidden_layers\": 12,\n",
       "  \"pad_token_id\": 0,\n",
       "  \"position_embedding_type\": \"absolute\",\n",
       "  \"transformers_version\": \"4.28.1\",\n",
       "  \"type_vocab_size\": 2,\n",
       "  \"use_cache\": true,\n",
       "  \"vocab_size\": 30522\n",
       "}"
      ]
     },
     "execution_count": 4,
     "metadata": {},
     "output_type": "execute_result"
    }
   ],
   "source": [
    "text = 'time flies like an arrow'\n",
    "model_ckpt = 'bert-base-uncased'\n",
    "config = AutoConfig.from_pretrained(model_ckpt)\n",
    "tokenizer = AutoTokenizer.from_pretrained(model_ckpt)\n",
    "\n",
    "config"
   ]
  },
  {
   "cell_type": "code",
   "execution_count": 5,
   "id": "6bcf8b34",
   "metadata": {},
   "outputs": [],
   "source": [
    "inputs = tokenizer(text, add_special_tokens=False, padding=True, truncation=True, return_tensors='pt')"
   ]
  },
  {
   "cell_type": "code",
   "execution_count": 6,
   "id": "aeafaac6",
   "metadata": {},
   "outputs": [
    {
     "data": {
      "text/plain": [
       "torch.Size([1, 5, 768])"
      ]
     },
     "execution_count": 6,
     "metadata": {},
     "output_type": "execute_result"
    }
   ],
   "source": [
    "# building a custom Embeddings class.\n",
    "# this class combines token embeddings with positional embeddings\n",
    "class Embeddings(nn.Module):\n",
    "    def __init__(self, config):\n",
    "        super().__init__()\n",
    "        self.token_embeddings = nn.Embedding(config.vocab_size, config.hidden_size)\n",
    "        self.position_embeddings = nn.Embedding(config.max_position_embeddings, config.hidden_size)\n",
    "\n",
    "    def forward(self, input_ids):\n",
    "        seq_len = input_ids.size(-1)\n",
    "        position_ids = torch.arange(seq_len, dtype=torch.long).unsqueeze(0)\n",
    "        position_embeddings = self.position_embeddings(position_ids)\n",
    "        token_embeddings = self.token_embeddings(input_ids)\n",
    "        embeddings = position_embeddings + token_embeddings\n",
    "        return embeddings\n",
    "\n",
    "\n",
    "embeddings = Embeddings(config)\n",
    "embedding_outputs = embeddings(inputs.input_ids)\n",
    "embedding_outputs.size()"
   ]
  },
  {
   "cell_type": "code",
   "execution_count": 7,
   "id": "6d834566",
   "metadata": {},
   "outputs": [],
   "source": [
    "def scaled_dot_product_attention(query, key, value):\n",
    "    dim_k = key.size(-1)\n",
    "    attention_scores = torch.bmm(query, key.transpose(1, 2)) / math.sqrt(dim_k)\n",
    "    attention_weights = nn.functional.softmax(attention_scores, dim=-1)\n",
    "    return torch.bmm(attention_weights, value)"
   ]
  },
  {
   "cell_type": "code",
   "execution_count": 8,
   "id": "e0ea0f63",
   "metadata": {},
   "outputs": [
    {
     "data": {
      "text/plain": [
       "torch.Size([1, 5, 768])"
      ]
     },
     "execution_count": 8,
     "metadata": {},
     "output_type": "execute_result"
    }
   ],
   "source": [
    "class AttentionHead(nn.Module):\n",
    "    def __init__(self, embed_dim, head_dim):\n",
    "        super().__init__()\n",
    "        self.q = nn.Linear(embed_dim, head_dim)\n",
    "        self.k = nn.Linear(embed_dim, head_dim)\n",
    "        self.v = nn.Linear(embed_dim, head_dim)\n",
    "        self.linear_output = nn.Linear(head_dim, head_dim)\n",
    "\n",
    "    def forward(self, hidden_state):\n",
    "        attention_output = scaled_dot_product_attention(self.q(hidden_state),\n",
    "                                                        self.k(hidden_state),\n",
    "                                                        self.v(hidden_state))\n",
    "        linear_output = self.linear_output(attention_output)\n",
    "        return linear_output\n",
    "\n",
    "\n",
    "class MultiHeadAttention(nn.Module):\n",
    "    def __init__(self, config):\n",
    "        super().__init__()\n",
    "        self.embed_dim = config.hidden_size\n",
    "        self.num_heads = config.num_attention_heads\n",
    "        self.head_dim = self.embed_dim // self.num_heads\n",
    "        self.heads = nn.ModuleList([AttentionHead(self.embed_dim, self.head_dim) for _ in range(self.num_heads)])\n",
    "\n",
    "    def forward(self, x):\n",
    "        x = torch.cat([h(x) for h in self.heads], dim=-1)\n",
    "        return x\n",
    "\n",
    "\n",
    "multihead_attention = MultiHeadAttention(config)\n",
    "multihead_attention_outputs = multihead_attention(embedding_outputs)\n",
    "\n",
    "class FeedForwardLayer(nn.Module):\n",
    "    def __init__(self, config):\n",
    "        super().__init__()\n",
    "        # this linear layer is where the power of the model seems to originate from.\n",
    "        # When people talk about scaling the model they mostly talk about\n",
    "        # increasing the intermediate layer size.\n",
    "        self.linear1 = nn.Linear(config.hidden_size, config.intermediate_size)\n",
    "        self.linear2 = nn.Linear(config.intermediate_size, config.hidden_size)\n",
    "\n",
    "    def forward(self, x):\n",
    "        x = self.linear1(x)\n",
    "        x = self.linear2(x)\n",
    "        return x\n",
    "\n",
    "feed_forward = FeedForwardLayer(config)\n",
    "feed_forward_outputs = feed_forward(multihead_attention_outputs)\n",
    "\n",
    "\n",
    "# here we introduce skip connections and layer normalization.\n",
    "class EncoderTransformer(nn.Module):\n",
    "    def __init__(self, config):\n",
    "        super().__init__()\n",
    "        self.num_hidden_layers = config.num_hidden_layers\n",
    "        self.layer_norm1 = nn.LayerNorm(config.hidden_size)\n",
    "        self.attention_layer = MultiHeadAttention(config)\n",
    "        self.layer_norm2 = nn.LayerNorm(config.hidden_size)\n",
    "        self.feedforward = FeedForwardLayer(config)\n",
    "\n",
    "    def forward(self, x):\n",
    "        hidden_state1 = self.layer_norm1(x)\n",
    "        x = x + self.attention_layer(hidden_state1)\n",
    "        hidden_state2 = self.layer_norm2(x)\n",
    "        x = x + self.feedforward(hidden_state2)\n",
    "        return x\n",
    "    \n",
    "\n",
    "encoder = EncoderTransformer(config)\n",
    "encoder_outputs = encoder(embedding_outputs)\n",
    "\n",
    "\n",
    "class EncoderClassifier(nn.Module):\n",
    "    def __init__(self, config):\n",
    "        super().__init__()\n",
    "        self.encoder_layer = EncoderTransformer(config)\n",
    "        self.classifier = nn.Linear(config.hidden_size, config.num_labels)\n",
    "\n",
    "    def forward(self, x):\n",
    "        x = self.encoder_layer(x)[:, 0, :]    # choosing only the hidden state representation of first token, [CLS]\n",
    "        x = self.classifier(x)\n",
    "        return x\n",
    "\n",
    "\n",
    "config.num_labels = 3\n",
    "encoder_classifier = EncoderClassifier(config)\n",
    "logits = encoder_classifier(embedding_outputs)"
   ]
  },
  {
   "cell_type": "code",
   "execution_count": null,
   "id": "26636547",
   "metadata": {},
   "outputs": [],
   "source": []
  },
  {
   "cell_type": "code",
   "execution_count": null,
   "id": "74ef620c",
   "metadata": {},
   "outputs": [],
   "source": []
  },
  {
   "cell_type": "code",
   "execution_count": null,
   "id": "4f170c17",
   "metadata": {},
   "outputs": [],
   "source": []
  },
  {
   "cell_type": "code",
   "execution_count": null,
   "id": "fff54da3",
   "metadata": {},
   "outputs": [],
   "source": []
  }
 ],
 "metadata": {
  "kernelspec": {
   "display_name": "ptorch",
   "language": "python",
   "name": "ptorch"
  },
  "language_info": {
   "codemirror_mode": {
    "name": "ipython",
    "version": 3
   },
   "file_extension": ".py",
   "mimetype": "text/x-python",
   "name": "python",
   "nbconvert_exporter": "python",
   "pygments_lexer": "ipython3",
   "version": "3.9.17"
  }
 },
 "nbformat": 4,
 "nbformat_minor": 5
}
