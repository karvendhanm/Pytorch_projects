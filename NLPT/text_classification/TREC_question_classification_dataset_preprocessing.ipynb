{
 "cells": [
  {
   "cell_type": "code",
   "execution_count": 1,
   "id": "7beb495c",
   "metadata": {},
   "outputs": [],
   "source": [
    "import glob\n",
    "import pandas as pd"
   ]
  },
  {
   "cell_type": "code",
   "execution_count": 2,
   "id": "b0c0e2d3",
   "metadata": {},
   "outputs": [],
   "source": [
    "file_path = './TREC_question_classification_dataset/'"
   ]
  },
  {
   "cell_type": "code",
   "execution_count": 3,
   "id": "464fbdcd",
   "metadata": {},
   "outputs": [],
   "source": [
    "def load_trec_dataset(file_path):\n",
    "    labels = []\n",
    "    questions = []\n",
    "    for file in glob.glob(file_path + '*.txt'):\n",
    "        with open(file, 'r') as file:\n",
    "            lines = [line.rstrip() for line in file if line.strip()]\n",
    "            for line in lines:\n",
    "                label, question = line.split(' ', maxsplit=1)\n",
    "                labels.append(label)\n",
    "                questions.append(question)\n",
    "    return pd.DataFrame({'questions':questions, 'labels':labels})"
   ]
  },
  {
   "cell_type": "code",
   "execution_count": 4,
   "id": "a8854350",
   "metadata": {},
   "outputs": [],
   "source": [
    "# df_train['high_level_label'] = df_train['labels'].apply(lambda x: x.split(':')[0])\n",
    "# df_train.head()"
   ]
  },
  {
   "cell_type": "code",
   "execution_count": 5,
   "id": "fd8b8a29",
   "metadata": {},
   "outputs": [
    {
     "data": {
      "text/html": [
       "<div>\n",
       "<style scoped>\n",
       "    .dataframe tbody tr th:only-of-type {\n",
       "        vertical-align: middle;\n",
       "    }\n",
       "\n",
       "    .dataframe tbody tr th {\n",
       "        vertical-align: top;\n",
       "    }\n",
       "\n",
       "    .dataframe thead th {\n",
       "        text-align: right;\n",
       "    }\n",
       "</style>\n",
       "<table border=\"1\" class=\"dataframe\">\n",
       "  <thead>\n",
       "    <tr style=\"text-align: right;\">\n",
       "      <th></th>\n",
       "      <th>questions</th>\n",
       "      <th>labels</th>\n",
       "    </tr>\n",
       "  </thead>\n",
       "  <tbody>\n",
       "    <tr>\n",
       "      <th>0</th>\n",
       "      <td>How did serfdom develop in and then leave Russ...</td>\n",
       "      <td>DESC:manner</td>\n",
       "    </tr>\n",
       "    <tr>\n",
       "      <th>1</th>\n",
       "      <td>What films featured the character Popeye Doyle ?</td>\n",
       "      <td>ENTY:cremat</td>\n",
       "    </tr>\n",
       "    <tr>\n",
       "      <th>2</th>\n",
       "      <td>How can I find a list of celebrities ' real na...</td>\n",
       "      <td>DESC:manner</td>\n",
       "    </tr>\n",
       "    <tr>\n",
       "      <th>3</th>\n",
       "      <td>What fowl grabs the spotlight after the Chines...</td>\n",
       "      <td>ENTY:animal</td>\n",
       "    </tr>\n",
       "    <tr>\n",
       "      <th>4</th>\n",
       "      <td>What is the full form of .com ?</td>\n",
       "      <td>ABBR:exp</td>\n",
       "    </tr>\n",
       "  </tbody>\n",
       "</table>\n",
       "</div>"
      ],
      "text/plain": [
       "                                           questions       labels\n",
       "0  How did serfdom develop in and then leave Russ...  DESC:manner\n",
       "1   What films featured the character Popeye Doyle ?  ENTY:cremat\n",
       "2  How can I find a list of celebrities ' real na...  DESC:manner\n",
       "3  What fowl grabs the spotlight after the Chines...  ENTY:animal\n",
       "4                    What is the full form of .com ?     ABBR:exp"
      ]
     },
     "execution_count": 5,
     "metadata": {},
     "output_type": "execute_result"
    }
   ],
   "source": [
    "df_train = load_trec_dataset(file_path + 'train/')\n",
    "df_train.to_csv('./TREC_question_classification/train/train.csv', index=False, index_label=False)\n",
    "df_train.head()"
   ]
  },
  {
   "cell_type": "code",
   "execution_count": 6,
   "id": "0c2eb9a8",
   "metadata": {},
   "outputs": [
    {
     "data": {
      "text/html": [
       "<div>\n",
       "<style scoped>\n",
       "    .dataframe tbody tr th:only-of-type {\n",
       "        vertical-align: middle;\n",
       "    }\n",
       "\n",
       "    .dataframe tbody tr th {\n",
       "        vertical-align: top;\n",
       "    }\n",
       "\n",
       "    .dataframe thead th {\n",
       "        text-align: right;\n",
       "    }\n",
       "</style>\n",
       "<table border=\"1\" class=\"dataframe\">\n",
       "  <thead>\n",
       "    <tr style=\"text-align: right;\">\n",
       "      <th></th>\n",
       "      <th>questions</th>\n",
       "      <th>labels</th>\n",
       "    </tr>\n",
       "  </thead>\n",
       "  <tbody>\n",
       "    <tr>\n",
       "      <th>0</th>\n",
       "      <td>How far is it from Denver to Aspen ?</td>\n",
       "      <td>NUM:dist</td>\n",
       "    </tr>\n",
       "    <tr>\n",
       "      <th>1</th>\n",
       "      <td>What county is Modesto , California in ?</td>\n",
       "      <td>LOC:city</td>\n",
       "    </tr>\n",
       "    <tr>\n",
       "      <th>2</th>\n",
       "      <td>Who was Galileo ?</td>\n",
       "      <td>HUM:desc</td>\n",
       "    </tr>\n",
       "    <tr>\n",
       "      <th>3</th>\n",
       "      <td>What is an atom ?</td>\n",
       "      <td>DESC:def</td>\n",
       "    </tr>\n",
       "    <tr>\n",
       "      <th>4</th>\n",
       "      <td>When did Hawaii become a state ?</td>\n",
       "      <td>NUM:date</td>\n",
       "    </tr>\n",
       "  </tbody>\n",
       "</table>\n",
       "</div>"
      ],
      "text/plain": [
       "                                  questions    labels\n",
       "0      How far is it from Denver to Aspen ?  NUM:dist\n",
       "1  What county is Modesto , California in ?  LOC:city\n",
       "2                         Who was Galileo ?  HUM:desc\n",
       "3                         What is an atom ?  DESC:def\n",
       "4          When did Hawaii become a state ?  NUM:date"
      ]
     },
     "execution_count": 6,
     "metadata": {},
     "output_type": "execute_result"
    }
   ],
   "source": [
    "df_test = load_trec_dataset(file_path + 'test/')\n",
    "df_test.to_csv('./TREC_question_classification/test/test.csv', index=False, index_label=False)\n",
    "df_test.head()"
   ]
  },
  {
   "cell_type": "code",
   "execution_count": 11,
   "id": "80267318",
   "metadata": {},
   "outputs": [
    {
     "name": "stdout",
     "output_type": "stream",
     "text": [
      "DatasetDict({\n",
      "    train: Dataset({\n",
      "        features: ['questions', 'labels'],\n",
      "        num_rows: 15452\n",
      "    })\n",
      "    test: Dataset({\n",
      "        features: ['questions', 'labels'],\n",
      "        num_rows: 500\n",
      "    })\n",
      "})\n"
     ]
    }
   ],
   "source": [
    "# creating a hugging face dataset dict\n",
    "\n",
    "from datasets import load_dataset\n",
    "\n",
    "data_files = {\n",
    "    'train':'TREC_question_classification/train/*.csv',\n",
    "    'test':'TREC_question_classification/test/*.csv'\n",
    "}\n",
    "TREC = load_dataset('csv', data_files=data_files)\n",
    "print(TREC)"
   ]
  },
  {
   "cell_type": "code",
   "execution_count": null,
   "id": "c612d339",
   "metadata": {},
   "outputs": [],
   "source": []
  }
 ],
 "metadata": {
  "kernelspec": {
   "display_name": "ptorch",
   "language": "python",
   "name": "ptorch"
  },
  "language_info": {
   "codemirror_mode": {
    "name": "ipython",
    "version": 3
   },
   "file_extension": ".py",
   "mimetype": "text/x-python",
   "name": "python",
   "nbconvert_exporter": "python",
   "pygments_lexer": "ipython3",
   "version": "3.9.17"
  }
 },
 "nbformat": 4,
 "nbformat_minor": 5
}
