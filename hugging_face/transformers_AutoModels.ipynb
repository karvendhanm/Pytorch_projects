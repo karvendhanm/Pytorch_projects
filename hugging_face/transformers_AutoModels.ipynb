{
 "cells": [
  {
   "cell_type": "code",
   "execution_count": 13,
   "outputs": [],
   "source": [
    "from IPython.core.interactiveshell import InteractiveShell\n",
    "InteractiveShell.ast_node_interactivity = \"all\""
   ],
   "metadata": {
    "collapsed": false,
    "ExecuteTime": {
     "end_time": "2023-07-05T00:07:50.837413191Z",
     "start_time": "2023-07-05T00:07:50.780809671Z"
    }
   }
  },
  {
   "cell_type": "code",
   "execution_count": 14,
   "outputs": [
    {
     "data": {
      "text/plain": "<IPython.core.display.HTML object>",
      "text/html": "<style type=\"text/css\">\ntable.dataframe td, table.dataframe th {\n    border: 1px  black solid !important;\n  color: black !important;\n}\n</style>\n"
     },
     "metadata": {},
     "output_type": "display_data"
    }
   ],
   "source": [
    "%%HTML\n",
    "<style type=\"text/css\">\n",
    "table.dataframe td, table.dataframe th {\n",
    "    border: 1px  black solid !important;\n",
    "  color: black !important;\n",
    "}\n",
    "</style>"
   ],
   "metadata": {
    "collapsed": false,
    "ExecuteTime": {
     "end_time": "2023-07-05T00:07:50.837777710Z",
     "start_time": "2023-07-05T00:07:50.822783247Z"
    }
   }
  },
  {
   "cell_type": "code",
   "execution_count": 15,
   "metadata": {
    "collapsed": true,
    "ExecuteTime": {
     "end_time": "2023-07-05T00:07:50.837943138Z",
     "start_time": "2023-07-05T00:07:50.822911879Z"
    }
   },
   "outputs": [
    {
     "data": {
      "text/plain": "0"
     },
     "execution_count": 15,
     "metadata": {},
     "output_type": "execute_result"
    }
   ],
   "source": [
    "import os\n",
    "import torch\n",
    "\n",
    "from datasets import load_dataset\n",
    "from transformers import AutoModel, AutoTokenizer\n",
    "\n",
    "#system call\n",
    "os.system(\"\")\n",
    "\n",
    "# importing local modules\n",
    "import utils"
   ]
  },
  {
   "cell_type": "code",
   "execution_count": 16,
   "outputs": [
    {
     "name": "stderr",
     "output_type": "stream",
     "text": [
      "Some weights of the model checkpoint at distilbert-base-uncased were not used when initializing DistilBertModel: ['vocab_projector.bias', 'vocab_transform.weight', 'vocab_layer_norm.bias', 'vocab_layer_norm.weight', 'vocab_transform.bias']\n",
      "- This IS expected if you are initializing DistilBertModel from the checkpoint of a model trained on another task or with another architecture (e.g. initializing a BertForSequenceClassification model from a BertForPreTraining model).\n",
      "- This IS NOT expected if you are initializing DistilBertModel from the checkpoint of a model that you expect to be exactly identical (initializing a BertForSequenceClassification model from a BertForSequenceClassification model).\n"
     ]
    },
    {
     "name": "stdout",
     "output_type": "stream",
     "text": [
      "the available device is: cuda\n"
     ]
    }
   ],
   "source": [
    "# assigning a device\n",
    "device = torch.device('cuda' if torch.cuda.is_available() else 'cpu')\n",
    "\n",
    "# selecting a transformer model\n",
    "model_ckpt = 'distilbert-base-uncased'\n",
    "\n",
    "# initializing AutoTokenizer\n",
    "tokenizer = AutoTokenizer.from_pretrained(model_ckpt)\n",
    "\n",
    "# initializing transformer AutoModels\n",
    "model = AutoModel.from_pretrained(model_ckpt).to(device)\n",
    "print(f'the available device is: {device}')"
   ],
   "metadata": {
    "collapsed": false,
    "ExecuteTime": {
     "end_time": "2023-07-05T00:07:52.613242852Z",
     "start_time": "2023-07-05T00:07:50.822959409Z"
    }
   }
  },
  {
   "cell_type": "code",
   "execution_count": 17,
   "outputs": [
    {
     "name": "stderr",
     "output_type": "stream",
     "text": [
      "No config specified, defaulting to: emotion/split\n",
      "Found cached dataset emotion (/home/karvsmech/.cache/huggingface/datasets/emotion/split/1.0.0/cca5efe2dfeb58c1d098e0f9eeb200e9927d889b5a03c67097275dfb5fe463bd)\n"
     ]
    },
    {
     "data": {
      "text/plain": "  0%|          | 0/3 [00:00<?, ?it/s]",
      "application/vnd.jupyter.widget-view+json": {
       "version_major": 2,
       "version_minor": 0,
       "model_id": "3a7b0ee4d47b4a2d9b54e0700b55e302"
      }
     },
     "metadata": {},
     "output_type": "display_data"
    }
   ],
   "source": [
    "# load emotion dataset\n",
    "emotions = load_dataset('emotion')"
   ],
   "metadata": {
    "collapsed": false,
    "ExecuteTime": {
     "end_time": "2023-07-05T00:07:59.343755109Z",
     "start_time": "2023-07-05T00:07:52.614369981Z"
    }
   }
  },
  {
   "cell_type": "code",
   "execution_count": 18,
   "outputs": [
    {
     "name": "stdout",
     "output_type": "stream",
     "text": [
      "\u001B[31mprinting emotions\u001B[0m\n",
      "DatasetDict({\n",
      "    train: Dataset({\n",
      "        features: ['text', 'label'],\n",
      "        num_rows: 16000\n",
      "    })\n",
      "    validation: Dataset({\n",
      "        features: ['text', 'label'],\n",
      "        num_rows: 2000\n",
      "    })\n",
      "    test: Dataset({\n",
      "        features: ['text', 'label'],\n",
      "        num_rows: 2000\n",
      "    })\n",
      "})\n",
      "\u001B[31m\n",
      "printing the type of emotions dataset\u001B[0m\n",
      "<class 'datasets.dataset_dict.DatasetDict'>\n"
     ]
    }
   ],
   "source": [
    "print(utils.Style.RED + 'printing emotions' + utils.Style.RESET)\n",
    "print(emotions)\n",
    "\n",
    "print(utils.Style.RED + '\\nprinting the type of emotions dataset' + utils.Style.RESET)\n",
    "print(type(emotions))"
   ],
   "metadata": {
    "collapsed": false,
    "ExecuteTime": {
     "end_time": "2023-07-05T00:07:59.386907307Z",
     "start_time": "2023-07-05T00:07:59.344365939Z"
    }
   }
  },
  {
   "cell_type": "code",
   "execution_count": 19,
   "outputs": [
    {
     "name": "stdout",
     "output_type": "stream",
     "text": [
      "\u001B[31mprinting emotions train\u001B[0m\n",
      "Dataset({\n",
      "    features: ['text', 'label'],\n",
      "    num_rows: 16000\n",
      "})\n",
      "\u001B[31m\n",
      "printing the type of emotions train\u001B[0m\n",
      "<class 'datasets.arrow_dataset.Dataset'>\n"
     ]
    }
   ],
   "source": [
    "print(utils.Style.RED + 'printing emotions train' + utils.Style.RESET)\n",
    "print(emotions['train'])\n",
    "\n",
    "print(utils.Style.RED + '\\nprinting the type of emotions train' + utils.Style.RESET)\n",
    "print(type(emotions['train']))"
   ],
   "metadata": {
    "collapsed": false,
    "ExecuteTime": {
     "end_time": "2023-07-05T00:07:59.387097542Z",
     "start_time": "2023-07-05T00:07:59.386817927Z"
    }
   }
  },
  {
   "cell_type": "code",
   "execution_count": 20,
   "outputs": [
    {
     "name": "stdout",
     "output_type": "stream",
     "text": [
      "\u001B[31mcolumn names of the emotion dataset\u001B[0m\n"
     ]
    },
    {
     "data": {
      "text/plain": "{'train': ['text', 'label'],\n 'validation': ['text', 'label'],\n 'test': ['text', 'label']}"
     },
     "execution_count": 20,
     "metadata": {},
     "output_type": "execute_result"
    },
    {
     "name": "stdout",
     "output_type": "stream",
     "text": [
      "\u001B[31m\n",
      "accessing the text column\u001B[0m\n"
     ]
    },
    {
     "data": {
      "text/plain": "['i didnt feel humiliated',\n 'i can go from feeling so hopeless to so damned hopeful just from being around someone who cares and is awake']"
     },
     "execution_count": 20,
     "metadata": {},
     "output_type": "execute_result"
    },
    {
     "name": "stdout",
     "output_type": "stream",
     "text": [
      "\u001B[31m\n",
      "datatype of the text column\u001B[0m\n"
     ]
    },
    {
     "data": {
      "text/plain": "list"
     },
     "execution_count": 20,
     "metadata": {},
     "output_type": "execute_result"
    },
    {
     "name": "stdout",
     "output_type": "stream",
     "text": [
      "\u001B[31m\n",
      "accessing the label column\u001B[0m\n"
     ]
    },
    {
     "data": {
      "text/plain": "[0, 0]"
     },
     "execution_count": 20,
     "metadata": {},
     "output_type": "execute_result"
    },
    {
     "name": "stdout",
     "output_type": "stream",
     "text": [
      "\u001B[31m\n",
      "datatype of the label column\u001B[0m\n"
     ]
    },
    {
     "data": {
      "text/plain": "list"
     },
     "execution_count": 20,
     "metadata": {},
     "output_type": "execute_result"
    }
   ],
   "source": [
    "print(utils.Style.RED + 'column names of the emotion dataset' + utils.Style.RESET)\n",
    "emotions.column_names\n",
    "\n",
    "print(utils.Style.RED + '\\naccessing the text column' + utils.Style.RESET)\n",
    "emotions['train']['text'][:2]\n",
    "\n",
    "print(utils.Style.RED + '\\ndatatype of the text column' + utils.Style.RESET)\n",
    "type(emotions['train']['text'][:2]) # it becomes a plain list\n",
    "\n",
    "print(utils.Style.RED + '\\naccessing the label column' + utils.Style.RESET)\n",
    "emotions['train']['label'][:2]\n",
    "\n",
    "print(utils.Style.RED + '\\ndatatype of the label column' + utils.Style.RESET)\n",
    "type(emotions['train']['label'][:2]) # it becomes a plain list"
   ],
   "metadata": {
    "collapsed": false,
    "ExecuteTime": {
     "end_time": "2023-07-05T00:07:59.460116049Z",
     "start_time": "2023-07-05T00:07:59.387014242Z"
    }
   }
  },
  {
   "cell_type": "code",
   "execution_count": 21,
   "outputs": [
    {
     "name": "stdout",
     "output_type": "stream",
     "text": [
      "\u001B[31maccessing the text column\u001B[0m\n"
     ]
    },
    {
     "data": {
      "text/plain": "['i didnt feel humiliated',\n 'i can go from feeling so hopeless to so damned hopeful just from being around someone who cares and is awake']"
     },
     "execution_count": 21,
     "metadata": {},
     "output_type": "execute_result"
    },
    {
     "name": "stdout",
     "output_type": "stream",
     "text": [
      "\u001B[31m\n",
      "datatype of the text column\u001B[0m\n"
     ]
    },
    {
     "data": {
      "text/plain": "list"
     },
     "execution_count": 21,
     "metadata": {},
     "output_type": "execute_result"
    },
    {
     "name": "stdout",
     "output_type": "stream",
     "text": [
      "\u001B[31m\n",
      "accessing the label column\u001B[0m\n"
     ]
    },
    {
     "data": {
      "text/plain": "tensor([0, 0])"
     },
     "execution_count": 21,
     "metadata": {},
     "output_type": "execute_result"
    },
    {
     "name": "stdout",
     "output_type": "stream",
     "text": [
      "\u001B[31m\n",
      "datatype of the label column\u001B[0m\n"
     ]
    },
    {
     "data": {
      "text/plain": "torch.Tensor"
     },
     "execution_count": 21,
     "metadata": {},
     "output_type": "execute_result"
    }
   ],
   "source": [
    "emotions.set_format('torch', columns=['text', 'label'])\n",
    "\n",
    "print(utils.Style.RED + 'accessing the text column' + utils.Style.RESET)\n",
    "emotions['train']['text'][:2]\n",
    "\n",
    "print(utils.Style.RED + '\\ndatatype of the text column' + utils.Style.RESET)\n",
    "type(emotions['train']['text'][:2]) # text can't be converted to a tensor. it stays as plain list\n",
    "\n",
    "print(utils.Style.RED + '\\naccessing the label column' + utils.Style.RESET)\n",
    "emotions['train']['label'][:2]\n",
    "\n",
    "print(utils.Style.RED + '\\ndatatype of the label column' + utils.Style.RESET)\n",
    "type(emotions['train']['label'][:2]) # list becomes a tensor"
   ],
   "metadata": {
    "collapsed": false,
    "ExecuteTime": {
     "end_time": "2023-07-05T00:07:59.460438858Z",
     "start_time": "2023-07-05T00:07:59.430741108Z"
    }
   }
  },
  {
   "cell_type": "code",
   "execution_count": 22,
   "outputs": [],
   "source": [
    "def tokenize(batch):\n",
    "    return tokenizer(batch['text'], padding=True, truncation=True)"
   ],
   "metadata": {
    "collapsed": false,
    "ExecuteTime": {
     "end_time": "2023-07-05T00:07:59.460515822Z",
     "start_time": "2023-07-05T00:07:59.430878617Z"
    }
   }
  },
  {
   "cell_type": "code",
   "execution_count": 23,
   "outputs": [
    {
     "name": "stderr",
     "output_type": "stream",
     "text": [
      "Loading cached processed dataset at /home/karvsmech/.cache/huggingface/datasets/emotion/split/1.0.0/cca5efe2dfeb58c1d098e0f9eeb200e9927d889b5a03c67097275dfb5fe463bd/cache-d385021a8c0bb3a0.arrow\n",
      "Loading cached processed dataset at /home/karvsmech/.cache/huggingface/datasets/emotion/split/1.0.0/cca5efe2dfeb58c1d098e0f9eeb200e9927d889b5a03c67097275dfb5fe463bd/cache-83457ba7a585dbf4.arrow\n",
      "Loading cached processed dataset at /home/karvsmech/.cache/huggingface/datasets/emotion/split/1.0.0/cca5efe2dfeb58c1d098e0f9eeb200e9927d889b5a03c67097275dfb5fe463bd/cache-1b486cc7f8695f03.arrow\n"
     ]
    },
    {
     "name": "stdout",
     "output_type": "stream",
     "text": [
      "\u001B[31mprinting emotions_encoded\u001B[0m\n"
     ]
    },
    {
     "data": {
      "text/plain": "DatasetDict({\n    train: Dataset({\n        features: ['text', 'label', 'input_ids', 'attention_mask'],\n        num_rows: 16000\n    })\n    validation: Dataset({\n        features: ['text', 'label', 'input_ids', 'attention_mask'],\n        num_rows: 2000\n    })\n    test: Dataset({\n        features: ['text', 'label', 'input_ids', 'attention_mask'],\n        num_rows: 2000\n    })\n})"
     },
     "execution_count": 23,
     "metadata": {},
     "output_type": "execute_result"
    },
    {
     "name": "stdout",
     "output_type": "stream",
     "text": [
      "\u001B[31m\n",
      "printing emotions_encoded column names\u001B[0m\n"
     ]
    },
    {
     "data": {
      "text/plain": "{'train': ['text', 'label', 'input_ids', 'attention_mask'],\n 'validation': ['text', 'label', 'input_ids', 'attention_mask'],\n 'test': ['text', 'label', 'input_ids', 'attention_mask']}"
     },
     "execution_count": 23,
     "metadata": {},
     "output_type": "execute_result"
    },
    {
     "name": "stdout",
     "output_type": "stream",
     "text": [
      "\u001B[31maccessing the text column\u001B[0m\n"
     ]
    },
    {
     "data": {
      "text/plain": "['i didnt feel humiliated',\n 'i can go from feeling so hopeless to so damned hopeful just from being around someone who cares and is awake']"
     },
     "execution_count": 23,
     "metadata": {},
     "output_type": "execute_result"
    },
    {
     "name": "stdout",
     "output_type": "stream",
     "text": [
      "\u001B[31m\n",
      "datatype of the text column\u001B[0m\n"
     ]
    },
    {
     "data": {
      "text/plain": "list"
     },
     "execution_count": 23,
     "metadata": {},
     "output_type": "execute_result"
    },
    {
     "name": "stdout",
     "output_type": "stream",
     "text": [
      "\u001B[31m\n",
      "accessing the label column\u001B[0m\n"
     ]
    },
    {
     "data": {
      "text/plain": "tensor([0, 0])"
     },
     "execution_count": 23,
     "metadata": {},
     "output_type": "execute_result"
    },
    {
     "name": "stdout",
     "output_type": "stream",
     "text": [
      "\u001B[31m\n",
      "datatype of the label column\u001B[0m\n"
     ]
    },
    {
     "data": {
      "text/plain": "torch.Tensor"
     },
     "execution_count": 23,
     "metadata": {},
     "output_type": "execute_result"
    },
    {
     "name": "stdout",
     "output_type": "stream",
     "text": [
      "\u001B[31m\n",
      "accessing the input_ids column\u001B[0m\n"
     ]
    },
    {
     "data": {
      "text/plain": "tensor([[  101,  1045,  2134,  2102,  2514, 26608,   102,     0,     0,     0,\n             0,     0,     0,     0,     0,     0,     0,     0,     0,     0,\n             0,     0,     0,     0,     0,     0,     0,     0,     0,     0,\n             0,     0,     0,     0,     0,     0,     0,     0,     0,     0,\n             0,     0,     0,     0,     0,     0,     0,     0,     0,     0,\n             0,     0,     0,     0,     0,     0,     0,     0,     0,     0,\n             0,     0,     0,     0,     0,     0,     0,     0,     0,     0,\n             0,     0,     0,     0,     0,     0,     0,     0,     0,     0,\n             0,     0,     0,     0,     0,     0,     0],\n        [  101,  1045,  2064,  2175,  2013,  3110,  2061, 20625,  2000,  2061,\n          9636, 17772,  2074,  2013,  2108,  2105,  2619,  2040, 14977,  1998,\n          2003,  8300,   102,     0,     0,     0,     0,     0,     0,     0,\n             0,     0,     0,     0,     0,     0,     0,     0,     0,     0,\n             0,     0,     0,     0,     0,     0,     0,     0,     0,     0,\n             0,     0,     0,     0,     0,     0,     0,     0,     0,     0,\n             0,     0,     0,     0,     0,     0,     0,     0,     0,     0,\n             0,     0,     0,     0,     0,     0,     0,     0,     0,     0,\n             0,     0,     0,     0,     0,     0,     0]])"
     },
     "execution_count": 23,
     "metadata": {},
     "output_type": "execute_result"
    },
    {
     "name": "stdout",
     "output_type": "stream",
     "text": [
      "\u001B[31m\n",
      "datatype of the input_ids column\u001B[0m\n"
     ]
    },
    {
     "data": {
      "text/plain": "torch.Tensor"
     },
     "execution_count": 23,
     "metadata": {},
     "output_type": "execute_result"
    },
    {
     "name": "stdout",
     "output_type": "stream",
     "text": [
      "\u001B[31m\n",
      "accessing the attention_mask column\u001B[0m\n"
     ]
    },
    {
     "data": {
      "text/plain": "tensor([[1, 1, 1, 1, 1, 1, 1, 0, 0, 0, 0, 0, 0, 0, 0, 0, 0, 0, 0, 0, 0, 0, 0, 0,\n         0, 0, 0, 0, 0, 0, 0, 0, 0, 0, 0, 0, 0, 0, 0, 0, 0, 0, 0, 0, 0, 0, 0, 0,\n         0, 0, 0, 0, 0, 0, 0, 0, 0, 0, 0, 0, 0, 0, 0, 0, 0, 0, 0, 0, 0, 0, 0, 0,\n         0, 0, 0, 0, 0, 0, 0, 0, 0, 0, 0, 0, 0, 0, 0],\n        [1, 1, 1, 1, 1, 1, 1, 1, 1, 1, 1, 1, 1, 1, 1, 1, 1, 1, 1, 1, 1, 1, 1, 0,\n         0, 0, 0, 0, 0, 0, 0, 0, 0, 0, 0, 0, 0, 0, 0, 0, 0, 0, 0, 0, 0, 0, 0, 0,\n         0, 0, 0, 0, 0, 0, 0, 0, 0, 0, 0, 0, 0, 0, 0, 0, 0, 0, 0, 0, 0, 0, 0, 0,\n         0, 0, 0, 0, 0, 0, 0, 0, 0, 0, 0, 0, 0, 0, 0]])"
     },
     "execution_count": 23,
     "metadata": {},
     "output_type": "execute_result"
    },
    {
     "name": "stdout",
     "output_type": "stream",
     "text": [
      "\u001B[31m\n",
      "datatype of the attention_mask column\u001B[0m\n"
     ]
    },
    {
     "data": {
      "text/plain": "torch.Tensor"
     },
     "execution_count": 23,
     "metadata": {},
     "output_type": "execute_result"
    }
   ],
   "source": [
    "emotions_encoded = emotions.map(tokenize, batched=True, batch_size=None)\n",
    "\n",
    "print(utils.Style.RED + 'printing emotions_encoded' + utils.Style.RESET)\n",
    "emotions_encoded\n",
    "\n",
    "print(utils.Style.RED + '\\nprinting emotions_encoded column names' + utils.Style.RESET)\n",
    "emotions_encoded.column_names\n",
    "\n",
    "print(utils.Style.RED + 'accessing the text column' + utils.Style.RESET)\n",
    "emotions_encoded['train']['text'][:2]\n",
    "\n",
    "print(utils.Style.RED + '\\ndatatype of the text column' + utils.Style.RESET)\n",
    "type(emotions_encoded['train']['text'][:2]) # text can't be converted to a tensor. it stays as plain list\n",
    "\n",
    "print(utils.Style.RED + '\\naccessing the label column' + utils.Style.RESET)\n",
    "emotions_encoded['train']['label'][:2]\n",
    "\n",
    "print(utils.Style.RED + '\\ndatatype of the label column' + utils.Style.RESET)\n",
    "type(emotions_encoded['train']['label'][:2])\n",
    "\n",
    "print(utils.Style.RED + '\\naccessing the input_ids column' + utils.Style.RESET)\n",
    "emotions_encoded['train']['input_ids'][:2]\n",
    "\n",
    "print(utils.Style.RED + '\\ndatatype of the input_ids column' + utils.Style.RESET)\n",
    "type(emotions_encoded['train']['input_ids'][:2]) # text can't be converted to a tensor. it stays as plain list\n",
    "\n",
    "print(utils.Style.RED + '\\naccessing the attention_mask column' + utils.Style.RESET)\n",
    "emotions_encoded['train']['attention_mask'][:2]\n",
    "\n",
    "print(utils.Style.RED + '\\ndatatype of the attention_mask column' + utils.Style.RESET)\n",
    "type(emotions_encoded['train']['attention_mask'][:2])"
   ],
   "metadata": {
    "collapsed": false,
    "ExecuteTime": {
     "end_time": "2023-07-05T00:07:59.537004180Z",
     "start_time": "2023-07-05T00:07:59.430946872Z"
    }
   }
  },
  {
   "cell_type": "code",
   "execution_count": 12,
   "outputs": [
    {
     "name": "stdout",
     "output_type": "stream",
     "text": [
      "\u001B[31mthe columns the model expects as an input\u001B[0m\n"
     ]
    },
    {
     "data": {
      "text/plain": "['input_ids', 'attention_mask']"
     },
     "execution_count": 12,
     "metadata": {},
     "output_type": "execute_result"
    }
   ],
   "source": [
    "print(utils.Style.RED + 'the columns the model expects as an input' + utils.Style.RESET)\n",
    "tokenizer.model_input_names # text and label are not required by the model?\n",
    "# here the model is a masked language model and it has no use for targets.\n",
    "# we are only trying to use the last hidden state produced by 'distilbert-base-uncased' model for the input data, as features for the classification task.\n",
    "# we are essentially trying to build a classification head on a 'distilbert-base-uncased' model body with weights unchanged."
   ],
   "metadata": {
    "collapsed": false,
    "ExecuteTime": {
     "end_time": "2023-07-05T00:07:23.857504770Z",
     "start_time": "2023-07-05T00:07:23.790379040Z"
    }
   }
  },
  {
   "cell_type": "code",
   "execution_count": 28,
   "outputs": [],
   "source": [
    "# retrieving the hidden state for the entire dataset.\n",
    "def extract_hidden_states(batch):\n",
    "    # place model inputs on the device GPU if available or CPU\n",
    "    inputs_ = {k: v.to(device) for k, v in batch.items() if k in tokenizer.model_input_names}\n",
    "    # extract last hidden states\n",
    "    with torch.no_grad():\n",
    "        last_hidden_state = model(**inputs_).last_hidden_state\n",
    "\n",
    "    # return vector for CLS token as is common in text classification tasks\n",
    "    return {'hidden_state': last_hidden_state[:, 0].cpu().numpy()}"
   ],
   "metadata": {
    "collapsed": false,
    "ExecuteTime": {
     "end_time": "2023-07-05T00:09:08.220792014Z",
     "start_time": "2023-07-05T00:09:08.200616538Z"
    }
   }
  },
  {
   "cell_type": "code",
   "execution_count": 29,
   "outputs": [
    {
     "data": {
      "text/plain": "Map:   0%|          | 0/16000 [00:00<?, ? examples/s]",
      "application/vnd.jupyter.widget-view+json": {
       "version_major": 2,
       "version_minor": 0,
       "model_id": "53e929fc05564c988075e05f86dd708d"
      }
     },
     "metadata": {},
     "output_type": "display_data"
    },
    {
     "data": {
      "text/plain": "Map:   0%|          | 0/2000 [00:00<?, ? examples/s]",
      "application/vnd.jupyter.widget-view+json": {
       "version_major": 2,
       "version_minor": 0,
       "model_id": "4444b6ffef134ebc98603d5184e48691"
      }
     },
     "metadata": {},
     "output_type": "display_data"
    },
    {
     "data": {
      "text/plain": "Map:   0%|          | 0/2000 [00:00<?, ? examples/s]",
      "application/vnd.jupyter.widget-view+json": {
       "version_major": 2,
       "version_minor": 0,
       "model_id": "758ec6dcbf2b47d0ada13a29c482e914"
      }
     },
     "metadata": {},
     "output_type": "display_data"
    }
   ],
   "source": [
    "emotions_hidden = emotions_encoded.map(extract_hidden_states, batched=True)"
   ],
   "metadata": {
    "collapsed": false,
    "ExecuteTime": {
     "end_time": "2023-07-05T00:09:37.862657595Z",
     "start_time": "2023-07-05T00:09:09.903034792Z"
    }
   }
  },
  {
   "cell_type": "code",
   "execution_count": 30,
   "outputs": [
    {
     "data": {
      "text/plain": "{'train': ['text', 'label', 'input_ids', 'attention_mask', 'hidden_state'],\n 'validation': ['text',\n  'label',\n  'input_ids',\n  'attention_mask',\n  'hidden_state'],\n 'test': ['text', 'label', 'input_ids', 'attention_mask', 'hidden_state']}"
     },
     "execution_count": 30,
     "metadata": {},
     "output_type": "execute_result"
    },
    {
     "data": {
      "text/plain": "tensor([[-0.1168,  0.0986, -0.1296,  ...,  0.0587,  0.3543,  0.4042],\n        [-0.0324, -0.0323, -0.1957,  ..., -0.1747,  0.3546,  0.3028],\n        [ 0.0397,  0.2022,  0.1423,  ..., -0.1141,  0.3394,  0.3958],\n        ...,\n        [-0.0034, -0.0959,  0.0584,  ..., -0.0427,  0.2496,  0.3076],\n        [ 0.0666,  0.1733,  0.1290,  ...,  0.0612,  0.2904,  0.4684],\n        [ 0.0167,  0.1013, -0.0073,  ..., -0.0649,  0.3454,  0.2199]])"
     },
     "execution_count": 30,
     "metadata": {},
     "output_type": "execute_result"
    }
   ],
   "source": [
    "# a column called hidden_state has been added to the dataset dict\n",
    "emotions_hidden.column_names\n",
    "emotions_hidden['train']['hidden_state']"
   ],
   "metadata": {
    "collapsed": false,
    "ExecuteTime": {
     "end_time": "2023-07-05T00:09:43.202951459Z",
     "start_time": "2023-07-05T00:09:43.154710016Z"
    }
   }
  },
  {
   "cell_type": "code",
   "execution_count": null,
   "outputs": [],
   "source": [
    "# creating a feature matrix"
   ],
   "metadata": {
    "collapsed": false
   }
  },
  {
   "cell_type": "code",
   "execution_count": null,
   "outputs": [],
   "source": [],
   "metadata": {
    "collapsed": false
   }
  },
  {
   "cell_type": "code",
   "execution_count": null,
   "outputs": [],
   "source": [],
   "metadata": {
    "collapsed": false
   }
  },
  {
   "cell_type": "code",
   "execution_count": null,
   "outputs": [],
   "source": [],
   "metadata": {
    "collapsed": false
   }
  },
  {
   "cell_type": "code",
   "execution_count": null,
   "outputs": [],
   "source": [],
   "metadata": {
    "collapsed": false
   }
  },
  {
   "cell_type": "code",
   "execution_count": null,
   "outputs": [],
   "source": [],
   "metadata": {
    "collapsed": false
   }
  },
  {
   "cell_type": "code",
   "execution_count": null,
   "outputs": [],
   "source": [],
   "metadata": {
    "collapsed": false
   }
  },
  {
   "cell_type": "code",
   "execution_count": null,
   "outputs": [],
   "source": [],
   "metadata": {
    "collapsed": false
   }
  },
  {
   "cell_type": "code",
   "execution_count": null,
   "outputs": [],
   "source": [],
   "metadata": {
    "collapsed": false
   }
  },
  {
   "cell_type": "code",
   "execution_count": null,
   "outputs": [],
   "source": [],
   "metadata": {
    "collapsed": false
   }
  },
  {
   "cell_type": "code",
   "execution_count": null,
   "outputs": [],
   "source": [],
   "metadata": {
    "collapsed": false
   }
  }
 ],
 "metadata": {
  "kernelspec": {
   "display_name": "Python 3",
   "language": "python",
   "name": "python3"
  },
  "language_info": {
   "codemirror_mode": {
    "name": "ipython",
    "version": 2
   },
   "file_extension": ".py",
   "mimetype": "text/x-python",
   "name": "python",
   "nbconvert_exporter": "python",
   "pygments_lexer": "ipython2",
   "version": "2.7.6"
  }
 },
 "nbformat": 4,
 "nbformat_minor": 0
}
